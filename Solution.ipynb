{
 "cells": [
  {
   "cell_type": "markdown",
   "metadata": {},
   "source": [
    "# This is Jeopardy!"
   ]
  },
  {
   "cell_type": "code",
   "execution_count": 1,
   "metadata": {},
   "outputs": [],
   "source": [
    "import pandas as pd\n",
    "import random\n",
    "pd.set_option('display.max_colwidth', None)"
   ]
  },
  {
   "cell_type": "code",
   "execution_count": 2,
   "metadata": {},
   "outputs": [],
   "source": [
    "df = pd.read_csv('jeopardy.csv')"
   ]
  },
  {
   "cell_type": "code",
   "execution_count": 3,
   "metadata": {},
   "outputs": [
    {
     "name": "stdout",
     "output_type": "stream",
     "text": [
      "<class 'pandas.core.frame.DataFrame'>\n",
      "RangeIndex: 216930 entries, 0 to 216929\n",
      "Data columns (total 7 columns):\n",
      " #   Column       Non-Null Count   Dtype \n",
      "---  ------       --------------   ----- \n",
      " 0   Show Number  216930 non-null  int64 \n",
      " 1    Air Date    216930 non-null  object\n",
      " 2    Round       216930 non-null  object\n",
      " 3    Category    216930 non-null  object\n",
      " 4    Value       216930 non-null  object\n",
      " 5    Question    216930 non-null  object\n",
      " 6    Answer      216928 non-null  object\n",
      "dtypes: int64(1), object(6)\n",
      "memory usage: 11.6+ MB\n"
     ]
    }
   ],
   "source": [
    "df.head()\n",
    "df.info()"
   ]
  },
  {
   "cell_type": "code",
   "execution_count": 4,
   "metadata": {},
   "outputs": [],
   "source": [
    "#Rename Columns\n",
    "df.columns = ['show_number', 'date', 'round','category', 'value', 'question', 'answer']"
   ]
  },
  {
   "cell_type": "code",
   "execution_count": 5,
   "metadata": {},
   "outputs": [],
   "source": [
    "#Clean value column\n",
    "df = df.dropna(subset=['value'])\n",
    "df['value'] = df.value.str.replace('[$,(None)]', '')\n",
    "df['value'] = pd.to_numeric(df.value)"
   ]
  },
  {
   "cell_type": "code",
   "execution_count": 6,
   "metadata": {},
   "outputs": [],
   "source": [
    "def filterQuestion(filterList):\n",
    "    '''Filters the dataset for questions that contains all of the words in a list of words'''\n",
    "    lower = lambda string : str(string).lower()\n",
    "    filterList = tuple(map(lower, filterList))\n",
    "    filter_by_question = lambda col : all([ele.lower() in col.lower().split(' ') for ele in filterList])\n",
    "    return df[df.question.apply(filter_by_question)]"
   ]
  },
  {
   "cell_type": "code",
   "execution_count": 7,
   "metadata": {},
   "outputs": [],
   "source": [
    "def find_avg_difficulty(*filterList):\n",
    "    '''find average difficulty of a type of question'''\n",
    "    df1 = filterQuestion(filterList)\n",
    "    return df1.value.mean()"
   ]
  },
  {
   "cell_type": "code",
   "execution_count": 8,
   "metadata": {},
   "outputs": [
    {
     "data": {
      "text/plain": [
       "818.8878000979912"
      ]
     },
     "execution_count": 8,
     "metadata": {},
     "output_type": "execute_result"
    }
   ],
   "source": [
    "find_avg_difficulty('King')"
   ]
  },
  {
   "cell_type": "code",
   "execution_count": 9,
   "metadata": {},
   "outputs": [],
   "source": [
    "def find_most_common(*filterList):\n",
    "    '''find most common answers to questions containing words in filterList'''\n",
    "    unique_answers = filterQuestion(filterList).drop_duplicates(subset=['answer'])['answer']\n",
    "    freqs = {val : df[df.answer == val].answer.count() for val in unique_answers}\n",
    "    return {k: v for k, v in sorted(freqs.items(), key=lambda item: item[1], reverse=True)}"
   ]
  },
  {
   "cell_type": "code",
   "execution_count": 10,
   "metadata": {},
   "outputs": [],
   "source": [
    "#find_most_common('King')"
   ]
  },
  {
   "cell_type": "code",
   "execution_count": 11,
   "metadata": {},
   "outputs": [],
   "source": [
    "def filter_by_year(year, df):\n",
    "    return df[df.date.str.match('^' + str(year))]"
   ]
  },
  {
   "cell_type": "code",
   "execution_count": 12,
   "metadata": {},
   "outputs": [],
   "source": [
    "def find_usage(year, filter_list):\n",
    "    df1 = filter_by_year(year, filterQuestion(filter_list))\n",
    "    return df1.shape[0]"
   ]
  },
  {
   "cell_type": "code",
   "execution_count": 13,
   "metadata": {},
   "outputs": [],
   "source": [
    "def compare_usage_by_year(*filter_list):\n",
    "    '''Returns a dataframe containing the usage of words in questions present\n",
    "    in filter_list between 1980s to 2010s '''\n",
    "    usages = [0, 0, 0, 0]\n",
    "    for i in range(1984, 2013):\n",
    "        if i < 1990:\n",
    "            usages[0] += find_usage(i, filter_list)\n",
    "        elif i < 2000:\n",
    "            usages[1] += find_usage(i, filter_list)\n",
    "        elif i < 2010:\n",
    "            usages[2] += find_usage(i, filter_list)\n",
    "        else:\n",
    "            usages[3] += find_usage(i, filter_list)\n",
    "    return pd.DataFrame({'decade': ['80s', '90s', '00s', '10s'], \n",
    "                        'usage': usages})"
   ]
  },
  {
   "cell_type": "code",
   "execution_count": 14,
   "metadata": {},
   "outputs": [
    {
     "data": {
      "text/html": [
       "<div>\n",
       "<style scoped>\n",
       "    .dataframe tbody tr th:only-of-type {\n",
       "        vertical-align: middle;\n",
       "    }\n",
       "\n",
       "    .dataframe tbody tr th {\n",
       "        vertical-align: top;\n",
       "    }\n",
       "\n",
       "    .dataframe thead th {\n",
       "        text-align: right;\n",
       "    }\n",
       "</style>\n",
       "<table border=\"1\" class=\"dataframe\">\n",
       "  <thead>\n",
       "    <tr style=\"text-align: right;\">\n",
       "      <th></th>\n",
       "      <th>decade</th>\n",
       "      <th>usage</th>\n",
       "    </tr>\n",
       "  </thead>\n",
       "  <tbody>\n",
       "    <tr>\n",
       "      <th>0</th>\n",
       "      <td>80s</td>\n",
       "      <td>2</td>\n",
       "    </tr>\n",
       "    <tr>\n",
       "      <th>1</th>\n",
       "      <td>90s</td>\n",
       "      <td>28</td>\n",
       "    </tr>\n",
       "    <tr>\n",
       "      <th>2</th>\n",
       "      <td>00s</td>\n",
       "      <td>38</td>\n",
       "    </tr>\n",
       "    <tr>\n",
       "      <th>3</th>\n",
       "      <td>10s</td>\n",
       "      <td>6</td>\n",
       "    </tr>\n",
       "  </tbody>\n",
       "</table>\n",
       "</div>"
      ],
      "text/plain": [
       "  decade  usage\n",
       "0    80s      2\n",
       "1    90s     28\n",
       "2    00s     38\n",
       "3    10s      6"
      ]
     },
     "execution_count": 14,
     "metadata": {},
     "output_type": "execute_result"
    }
   ],
   "source": [
    "compare_usage_by_year('King', 'England')"
   ]
  },
  {
   "cell_type": "code",
   "execution_count": 15,
   "metadata": {},
   "outputs": [],
   "source": [
    "def compare_by_round(*filter_list):\n",
    "    df1 = filterQuestion(filter_list)\n",
    "    return pd.DataFrame({'round':['single', 'double'],\n",
    "                         'usage': [df1[df1['round'] == 'Jeopardy!'].shape[0],\n",
    "                                   df1[df1['round'] == 'Double Jeopardy!'].shape[0]]})"
   ]
  },
  {
   "cell_type": "code",
   "execution_count": 16,
   "metadata": {},
   "outputs": [
    {
     "data": {
      "text/html": [
       "<div>\n",
       "<style scoped>\n",
       "    .dataframe tbody tr th:only-of-type {\n",
       "        vertical-align: middle;\n",
       "    }\n",
       "\n",
       "    .dataframe tbody tr th {\n",
       "        vertical-align: top;\n",
       "    }\n",
       "\n",
       "    .dataframe thead th {\n",
       "        text-align: right;\n",
       "    }\n",
       "</style>\n",
       "<table border=\"1\" class=\"dataframe\">\n",
       "  <thead>\n",
       "    <tr style=\"text-align: right;\">\n",
       "      <th></th>\n",
       "      <th>round</th>\n",
       "      <th>usage</th>\n",
       "    </tr>\n",
       "  </thead>\n",
       "  <tbody>\n",
       "    <tr>\n",
       "      <th>0</th>\n",
       "      <td>single</td>\n",
       "      <td>42</td>\n",
       "    </tr>\n",
       "    <tr>\n",
       "      <th>1</th>\n",
       "      <td>double</td>\n",
       "      <td>68</td>\n",
       "    </tr>\n",
       "  </tbody>\n",
       "</table>\n",
       "</div>"
      ],
      "text/plain": [
       "    round  usage\n",
       "0  single     42\n",
       "1  double     68"
      ]
     },
     "execution_count": 16,
     "metadata": {},
     "output_type": "execute_result"
    }
   ],
   "source": [
    "compare_by_round('Literature')"
   ]
  },
  {
   "cell_type": "code",
   "execution_count": 21,
   "metadata": {},
   "outputs": [],
   "source": [
    "def ask_question():\n",
    "    choice = input(\"Filter by keywords? (y/n) \")\n",
    "    filter_list = ()\n",
    "    while choice == 'y':\n",
    "        filter_list += (input(\"Enter keyword: \"), )\n",
    "        choice = input(\"Add more keywords? (y/n) \")\n",
    "    df1 = filterQuestion(filter_list)\n",
    "    if df1.shape[0] == 0:\n",
    "        print(\"Too many keywords. Enter fewer\")\n",
    "    else:\n",
    "        loc = random.randrange(0, df1.shape[0])\n",
    "        print(\"Question:\")\n",
    "        question = df1.iloc[loc]['question']\n",
    "        print(question)\n",
    "        print(\"Answer: (in lowercase)\")\n",
    "        answer = input()\n",
    "        if answer == df1.iloc[loc]['answer'].lower():\n",
    "            print('Correct')\n",
    "        else:\n",
    "            print('Incorrect. The correct answer is\\n' + df1.iloc[loc]['answer'])"
   ]
  },
  {
   "cell_type": "code",
   "execution_count": 23,
   "metadata": {},
   "outputs": [
    {
     "name": "stdout",
     "output_type": "stream",
     "text": [
      "Filter by keywords? (y/n) y\n",
      "Enter keyword: Pakistan\n",
      "Add more keywords? (y/n) n\n",
      "Question:\n",
      "...this 86,000-square mile region disputed by India & Pakistan that also extends into China\n",
      "Answer: (in lowercase)\n",
      "kashmir\n",
      "Correct\n"
     ]
    }
   ],
   "source": [
    "ask_question()"
   ]
  }
 ],
 "metadata": {
  "kernelspec": {
   "display_name": "Python 3",
   "language": "python",
   "name": "python3"
  },
  "language_info": {
   "codemirror_mode": {
    "name": "ipython",
    "version": 3
   },
   "file_extension": ".py",
   "mimetype": "text/x-python",
   "name": "python",
   "nbconvert_exporter": "python",
   "pygments_lexer": "ipython3",
   "version": "3.7.7"
  }
 },
 "nbformat": 4,
 "nbformat_minor": 4
}
